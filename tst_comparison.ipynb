{
 "cells": [
  {
   "cell_type": "code",
   "execution_count": 3,
   "id": "aca0dc19",
   "metadata": {},
   "outputs": [],
   "source": [
    "import time\n",
    "import hello_cython\n",
    "import hello_python"
   ]
  },
  {
   "cell_type": "code",
   "execution_count": 4,
   "id": "e442cd11",
   "metadata": {},
   "outputs": [
    {
     "name": "stdout",
     "output_type": "stream",
     "text": [
      "10\n",
      "[Python] Primes: 4 — Time: 0.00 s\n",
      "[Cython] Primes: 4 — Time: 0.00 s\n",
      "\n",
      "100\n",
      "[Python] Primes: 25 — Time: 0.00 s\n",
      "[Cython] Primes: 25 — Time: 0.00 s\n",
      "\n",
      "1000\n",
      "[Python] Primes: 168 — Time: 0.00 s\n",
      "[Cython] Primes: 168 — Time: 0.00 s\n",
      "\n",
      "10000\n",
      "[Python] Primes: 1229 — Time: 0.01 s\n",
      "[Cython] Primes: 1229 — Time: 0.00 s\n",
      "\n",
      "100000\n",
      "[Python] Primes: 9592 — Time: 0.16 s\n",
      "[Cython] Primes: 9592 — Time: 0.01 s\n",
      "\n",
      "1000000\n",
      "[Python] Primes: 78498 — Time: 4.79 s\n",
      "[Cython] Primes: 78498 — Time: 0.44 s\n",
      "\n",
      "10000000\n",
      "[Python] Primes: 664579 — Time: 162.75 s\n",
      "[Cython] Primes: 664579 — Time: 6.00 s\n",
      "\n"
     ]
    }
   ],
   "source": [
    "N_arr, time_py, time_cy = [], [], []\n",
    "\n",
    "for n in [10, 100, 1000, 10000, 100000, 1000000, 10000000]:\n",
    "    N = n\n",
    "    N_arr.append(n)\n",
    "    print(N)\n",
    "    \n",
    "    # Versione Python\n",
    "    start = time.time()\n",
    "    res_py = hello_python.count_primes_py(N)\n",
    "    t = time.time() - start\n",
    "    time_py.append(t)\n",
    "    print(f\"[Python] Primes: {res_py} — Time: {t:.2f} s\")\n",
    "\n",
    "    # Versione Cython\n",
    "    start = time.time()\n",
    "    res_cy = hello_cython.count_primes_cy(N)\n",
    "    t = time.time() - start\n",
    "    time_cy.append(t)\n",
    "    print(f\"[Cython] Primes: {res_cy} — Time: {t:.2f} s\")\n",
    "    print()"
   ]
  }
 ],
 "metadata": {
  "kernelspec": {
   "display_name": "Python 3",
   "language": "python",
   "name": "python3"
  },
  "language_info": {
   "codemirror_mode": {
    "name": "ipython",
    "version": 3
   },
   "file_extension": ".py",
   "mimetype": "text/x-python",
   "name": "python",
   "nbconvert_exporter": "python",
   "pygments_lexer": "ipython3",
   "version": "3.13.3"
  }
 },
 "nbformat": 4,
 "nbformat_minor": 5
}
